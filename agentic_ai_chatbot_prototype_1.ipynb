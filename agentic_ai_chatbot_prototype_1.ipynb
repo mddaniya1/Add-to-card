{
  "cells": [
    {
      "cell_type": "markdown",
      "metadata": {
        "id": "view-in-github",
        "colab_type": "text"
      },
      "source": [
        "<a href=\"https://colab.research.google.com/github/mddaniya1/bank_customer_support/blob/main/agentic_ai_chatbot_prototype_1.ipynb\" target=\"_parent\"><img src=\"https://colab.research.google.com/assets/colab-badge.svg\" alt=\"Open In Colab\"/></a>"
      ]
    },
    {
      "cell_type": "markdown",
      "metadata": {
        "id": "Z1mqFHi6Ulgi"
      },
      "source": [
        "# Objective:\n",
        "\n",
        "Create a chatbot prototype that talks to users, remembers what they say during conversation, and helps them solve problems.\n",
        "\n",
        "## Project Requirements:\n",
        "\n",
        "- ***Choose Your Niche:*** Pick a specific group of people or industry to help with your chatbot (e.g., students, healthcare, customer service).\n",
        "\n",
        "- ***Make Smart Conversations:*** Make sure the chatbot answers correctly and understands what users want. Use Prompt Engineering.\n",
        "\n",
        "- ***Add Useful Tools:*** Give the chatbot features like helping users submit complaints, giving outfit ideas, or making study plans.\n",
        "\n",
        "- ***Short-Term Memory:*** Make the chatbot remember the current conversation to give better answers.\n",
        "\n",
        "- ***Use Google Colab:*** Build and test your chatbot using this platform.\n",
        "\n",
        "## Deliverables:\n",
        "\n",
        "- A working chatbot prototype - Google Collab Link.\n",
        "\n",
        "- A list of tools and examples of how the chatbot can help people."
      ]
    },
    {
      "cell_type": "markdown",
      "metadata": {
        "id": "0dWmVMazXHRL"
      },
      "source": [
        "# Setup\n",
        "\n",
        "- First, install the required packages:"
      ]
    },
    {
      "cell_type": "code",
      "execution_count": null,
      "metadata": {
        "id": "ZolSHSCfU6JX"
      },
      "outputs": [],
      "source": [
        "%%capture --no-stderr\n",
        "%pip install -U langgraph langsmith langchain_google_genai"
      ]
    },
    {
      "cell_type": "markdown",
      "metadata": {
        "id": "aXeoiR-iYB39"
      },
      "source": [
        "- Next, set your API keys:"
      ]
    },
    {
      "cell_type": "code",
      "execution_count": null,
      "metadata": {
        "id": "aSIW9TPNYD44"
      },
      "outputs": [],
      "source": [
        "import os\n",
        "from google.colab import userdata\n",
        "\n",
        "os.environ[\"LANGCHAIN_API_KEY\"] = userdata.get('LANGCHAIN_API_KEY')\n",
        "os.environ[\"LANGCHAIN_TRACING_V2\"] = \"true\"\n",
        "os.environ[\"LANGCHAIN_PROJECT\"] = \"quickstart\"\n",
        "\n",
        "gemini_api_key = userdata.get('GEMINI_API_KEY')\n",
        "tavily_api_key = userdata.get('TAVILY_API_KEY')"
      ]
    },
    {
      "cell_type": "markdown",
      "metadata": {
        "id": "VSAnp_DPYTe2"
      },
      "source": [
        "- Setting up LLM model"
      ]
    },
    {
      "cell_type": "code",
      "execution_count": null,
      "metadata": {
        "colab": {
          "base_uri": "https://localhost:8080/"
        },
        "id": "UNalyuqtYfqp",
        "outputId": "61e782bb-5f81-431c-eb64-a86f73d8e689"
      },
      "outputs": [
        {
          "output_type": "execute_result",
          "data": {
            "text/plain": [
              "AIMessage(content='Hello there!\\n', additional_kwargs={}, response_metadata={'prompt_feedback': {'block_reason': 0, 'safety_ratings': []}, 'finish_reason': 'STOP', 'safety_ratings': []}, id='run-38f05682-8532-4de8-9dcf-b742ef426c4f-0', usage_metadata={'input_tokens': 3, 'output_tokens': 4, 'total_tokens': 7, 'input_token_details': {'cache_read': 0}})"
            ]
          },
          "metadata": {},
          "execution_count": 4
        }
      ],
      "source": [
        "from langchain_google_genai import ChatGoogleGenerativeAI\n",
        "\n",
        "llm = ChatGoogleGenerativeAI(\n",
        "    model=\"gemini-1.5-flash\",\n",
        "    max_retries=2,\n",
        "    api_key=gemini_api_key\n",
        ")\n",
        "\n",
        "llm.invoke(\"greet me\")"
      ]
    },
    {
      "cell_type": "markdown",
      "metadata": {
        "id": "YS7jhNUIPuJb"
      },
      "source": [
        "- Now, creating a chatbot for the students of computer science, which have useful tools and shot-term memory."
      ]
    },
    {
      "cell_type": "code",
      "source": [
        "from typing import Annotated\n",
        "from typing_extensions import TypedDict\n",
        "from langgraph.graph import StateGraph, START, END\n",
        "from langgraph.graph.message import add_messages\n",
        "from langchain_google_genai import ChatGoogleGenerativeAI\n",
        "from langgraph.graph import MessagesState\n",
        "from langchain_core.messages import AIMessage, HumanMessage, SystemMessage\n",
        "\n",
        "\n",
        "# Memory for short-term conversation\n",
        "conversation_memory = {}\n",
        "\n",
        "def remember_user_input(key, value):\n",
        "    \"\"\"Stores user input in conversation memory.\"\"\"\n",
        "    conversation_memory[key] = value\n",
        "\n",
        "\n",
        "# State definition\n",
        "class State(TypedDict):\n",
        "    messages: Annotated[list, add_messages]\n",
        "\n",
        "# Initialize StateGraph\n",
        "graph_builder = StateGraph(State)\n",
        "\n",
        "\n",
        "# Tools\n",
        "\n",
        "def mcb_bank_customer_support(query: str) -> str:\n",
        "    \"\"\"Provide responses for common banking customer support queries.\"\"\"\n",
        "    prompt = f\"Provide a helpful response to the following bank customer support query:\\n{query}\"\n",
        "    return llm.invoke(prompt)\n",
        "\n",
        "def code_explainer(code_snippet: str) -> str:\n",
        "    \"\"\"Explain the given code snippet in simple terms.\"\"\"\n",
        "    prompt = f\"Explain the following code in simple terms:\\n\\n{code_snippet}\"\n",
        "    return llm.invoke(prompt)\n",
        "\n",
        "def generate_cheat_sheet(topic: str) -> str:\n",
        "    \"\"\"Generate a cheat sheet for a given topic.\"\"\"\n",
        "    prompt = f\"Create a detailed cheat sheet for the topic: {topic}. Include key points and examples.\"\n",
        "    return llm.invoke(prompt)\n",
        "\n",
        "def smart_todo_list(tasks: str) -> str:\n",
        "    \"\"\"Organize the tasks into a smart to-do list.\"\"\"\n",
        "    prompt = f\"Organize the following tasks into a prioritized to-do list with deadlines:\\n{tasks}\"\n",
        "    return llm.invoke(prompt)\n",
        "\n",
        "# Combine all tools\n",
        "tools = [code_explainer, generate_cheat_sheet, smart_todo_list]\n",
        "\n",
        "# Add MCB Bank Customer Support tool\n",
        "tools.append(mcb_bank_customer_support)\n",
        "\n",
        "\n",
        "# Initialize LLM\n",
        "llm = ChatGoogleGenerativeAI(\n",
        "    model=\"gemini-1.5-flash\",\n",
        "    max_retries=2,\n",
        "    api_key=gemini_api_key\n",
        ")\n",
        "llm_with_tools = llm.bind_tools(tools)\n",
        "\n",
        "\n",
        "# System message\n",
        "sys_msg = SystemMessage(content=\"You are a helpful assistant for MCB bank customer support. Your role is to provide clear and accurate answers to common customer inquiries related to banking services, such as account details, transactions, loans, and troubleshooting issues.\")\n",
        "\n",
        "\n",
        "# Node\n",
        "def assistant(state: MessagesState) -> MessagesState:\n",
        "    # Extract the last user message\n",
        "    last_message = state[\"messages\"][-1] if state[\"messages\"] else None\n",
        "\n",
        "    # Check if the last message is a HumanMessage\n",
        "    if isinstance(last_message, HumanMessage):\n",
        "        # Remember the user input\n",
        "        remember_user_input(\"last_user_input\", last_message.content)\n",
        "\n",
        "    # Prepare the response with memory context\n",
        "    memory_context = \"\"\n",
        "    if \"last_user_input\" in conversation_memory:\n",
        "        memory_context = f\"Previously, you mentioned: {conversation_memory['last_user_input']}\\n\"\n",
        "\n",
        "    # Invoke the LLM with the system message, memory context, and current messages\n",
        "    response = llm_with_tools.invoke([sys_msg, memory_context] + state[\"messages\"])\n",
        "\n",
        "    return {\"messages\": [response]}\n",
        "\n",
        "# Example Test\n",
        "if __name__ == \"__main__\":\n",
        "    # Sample user query\n",
        "    user_query = \"What is the status of my loan application?\"\n",
        "\n",
        "    # Initialize messages state\n",
        "    state = {\n",
        "        \"messages\": [\n",
        "            HumanMessage(content=user_query)\n",
        "        ]\n",
        "    }\n",
        "\n",
        "    # Get response from the assistant\n",
        "    response = assistant(state)\n",
        "    print(response[\"messages\"][0])  # Print the assistant's response\n"
      ],
      "metadata": {
        "colab": {
          "base_uri": "https://localhost:8080/"
        },
        "id": "pEeYoz7Wafwm",
        "outputId": "ec18da7b-c12a-45a4-8094-2fe05e68ca11"
      },
      "execution_count": null,
      "outputs": [
        {
          "output_type": "stream",
          "name": "stdout",
          "text": [
            "content=\"To check the status of your loan application, I'll need some identifying information.  Could you please provide your full name and National Identification Card number (CNIC)?  This will help me securely access your application details and provide you with an update.\\n\" additional_kwargs={} response_metadata={'prompt_feedback': {'block_reason': 0, 'safety_ratings': []}, 'finish_reason': 'STOP', 'safety_ratings': []} id='run-e9b155e5-5478-4d87-8167-937f918b3fe2-0' usage_metadata={'input_tokens': 250, 'output_tokens': 52, 'total_tokens': 302, 'input_token_details': {'cache_read': 0}}\n"
          ]
        }
      ]
    },
    {
      "cell_type": "code",
      "execution_count": null,
      "metadata": {
        "colab": {
          "base_uri": "https://localhost:8080/",
          "height": 266
        },
        "id": "_bKQsCBCVQpS",
        "outputId": "8ca28684-d181-42e5-8ac7-cfa731e7a5a1"
      },
      "outputs": [
        {
          "output_type": "display_data",
          "data": {
            "image/png": "[encoded data removed]",
            "text/plain": [
              "<IPython.core.display.Image object>"
            ]
          },
          "metadata": {}
        }
      ],
      "source": [
        "from langgraph.graph import START, StateGraph\n",
        "from langgraph.prebuilt import tools_condition\n",
        "from langgraph.prebuilt import ToolNode\n",
        "from IPython.display import Image, display\n",
        "from langgraph.graph.state import CompiledStateGraph\n",
        "\n",
        "# Graph\n",
        "builder: StateGraph = StateGraph(MessagesState)\n",
        "\n",
        "# Define nodes\n",
        "builder.add_node(\"assistant\", assistant)\n",
        "builder.add_node(\"tools\", ToolNode(tools))\n",
        "\n",
        "# Define edges\n",
        "builder.add_edge(START, \"assistant\")\n",
        "builder.add_conditional_edges(\n",
        "    \"assistant\",\n",
        "    tools_condition,\n",
        ")\n",
        "builder.add_edge(\"tools\", \"assistant\")\n",
        "react_graph: CompiledStateGraph = builder.compile()\n",
        "\n",
        "# Show\n",
        "display(Image(react_graph.get_graph(xray=True).draw_mermaid_png()))"
      ]
    },
    {
      "cell_type": "markdown",
      "metadata": {
        "id": "Lc84LQvd0FgJ"
      },
      "source": [
        "- **Explains code snippets in simple terms, making it easier for students to understand complex code.**"
      ]
    },
    {
      "cell_type": "code",
      "source": [
        "messages = [HumanMessage(content=\"I need help with my MCB bank account balance. Can you check it for me?\")]\n",
        "messages = react_graph.invoke({\"messages\": messages})"
      ],
      "metadata": {
        "id": "lSFCUbnoVPjY"
      },
      "execution_count": null,
      "outputs": []
    },
    {
      "cell_type": "code",
      "execution_count": null,
      "metadata": {
        "colab": {
          "base_uri": "https://localhost:8080/"
        },
        "id": "S4qfGP95XnO9",
        "outputId": "b36d803e-e728-46ca-aa9c-3784694a34be"
      },
      "outputs": [
        {
          "output_type": "stream",
          "name": "stdout",
          "text": [
            "================================\u001b[1m Human Message \u001b[0m=================================\n",
            "\n",
            "I need help with my MCB bank account balance. Can you check it for me?\n",
            "==================================\u001b[1m Ai Message \u001b[0m==================================\n",
            "\n",
            "I cannot directly access your private financial information, including your MCB bank account balance, due to security and privacy restrictions.  To check your account balance, I recommend using one of the following secure methods:\n",
            "\n",
            "* **MCB Bank Mobile App:** Download the official MCB Bank mobile app and log in to view your balance.\n",
            "* **MCB Bank Online Banking:** Access your account through the MCB Bank online banking portal.\n",
            "* **MCB Bank ATM:** Visit the nearest MCB Bank ATM and check your balance using your debit card.\n",
            "* **Contact MCB Bank Customer Service:** Call their customer service hotline for assistance.  They will be able to verify your identity and provide your balance.\n",
            "\n",
            "\n",
            "Please choose the method most convenient for you. Remember to protect your banking information and never share your passwords or PINs with anyone.\n"
          ]
        }
      ],
      "source": [
        "for m in messages['messages']:\n",
        "    m.pretty_print()"
      ]
    },
    {
      "cell_type": "code",
      "execution_count": null,
      "metadata": {
        "colab": {
          "base_uri": "https://localhost:8080/"
        },
        "id": "VcxJcLUvkowe",
        "outputId": "aa04d22a-8597-4a42-a4f7-7f391ca6d6ab"
      },
      "outputs": [
        {
          "output_type": "stream",
          "name": "stdout",
          "text": [
            "{'last_user_input': 'I need help with my MCB bank account balance. Can you check it for me?'}\n"
          ]
        }
      ],
      "source": [
        "print(conversation_memory)"
      ]
    },
    {
      "cell_type": "markdown",
      "metadata": {
        "id": "TDAkAeg10lU-"
      },
      "source": [
        "- **Creates concise cheat sheets for various topics in computer science, summarizing key concepts and examples.**"
      ]
    },
    {
      "cell_type": "code",
      "execution_count": null,
      "metadata": {
        "id": "PGuJ4eYnk3mn"
      },
      "outputs": [],
      "source": [
        "messages = [HumanMessage(content= \"A customer has lost their ATM card. Can you guide them through the process of blocking the card and applying for a replacement?\"\n",
        ")]\n",
        "messages = react_graph.invoke({\"messages\": messages})"
      ]
    },
    {
      "cell_type": "code",
      "execution_count": null,
      "metadata": {
        "colab": {
          "base_uri": "https://localhost:8080/"
        },
        "id": "0EpyY8UWk4KO",
        "outputId": "65e102ab-6937-40b8-cb36-7fce39f106fe"
      },
      "outputs": [
        {
          "output_type": "stream",
          "name": "stdout",
          "text": [
            "================================\u001b[1m Human Message \u001b[0m=================================\n",
            "\n",
            "A customer has lost their ATM card. Can you guide them through the process of blocking the card and applying for a replacement?\n",
            "==================================\u001b[1m Ai Message \u001b[0m==================================\n",
            "\n",
            "Here's how a customer can block their lost ATM card and apply for a replacement:\n",
            "\n",
            "**1. Immediately Block the Card:**\n",
            "\n",
            "* **Call MCB Bank's 24/7 Hotline:**  The first and most crucial step is to call MCB Bank's customer service hotline immediately.  They will provide you with instructions to block your card to prevent unauthorized transactions.  Have your account details ready.\n",
            "\n",
            "* **Use MCB Bank's Mobile App (if available):** Many banks offer mobile apps where you can temporarily block your card yourself. Check your app for this feature.\n",
            "\n",
            "**2. Report the Loss:**\n",
            "\n",
            "* **Formal Report:** After blocking the card, file a formal report of the loss with the bank. This may involve completing a form either online or at a branch.\n",
            "\n",
            "**3. Apply for a Replacement Card:**\n",
            "\n",
            "* **Online Application (if available):** Check if MCB Bank allows online applications for replacement cards. This is often the quickest method.\n",
            "\n",
            "* **Branch Visit:** If an online application isn't available, or you prefer personal assistance, visit your nearest MCB Bank branch. You'll need to provide identification and may need to fill out an application form.\n",
            "\n",
            "\n",
            "**4.  Delivery/Collection:**\n",
            "\n",
            "* **Delivery:** Inquire about card delivery options.  The bank might mail the new card to your registered address or offer other delivery methods.\n",
            "\n",
            "* **Collection:** You might need to collect the card from your local branch after it's been processed.\n",
            "\n",
            "\n",
            "**Important Considerations:**\n",
            "\n",
            "* **Security:** Keep your new ATM card secure. Don't share your PIN with anyone. Memorize your PIN and avoid writing it down.\n",
            "\n",
            "* **Fees:** Inquire about any fees associated with blocking the card or obtaining a replacement.\n",
            "\n",
            "\n",
            "**Example interaction with the MCB Bank's customer support system (simulated):**\n",
            "Tool Calls:\n",
            "  mcb_bank_customer_support (c957aef5-d2c1-430a-b6cb-20ec2c613c31)\n",
            " Call ID: c957aef5-d2c1-430a-b6cb-20ec2c613c31\n",
            "  Args:\n",
            "    query: I have lost my ATM card.\n",
            "=================================\u001b[1m Tool Message \u001b[0m=================================\n",
            "Name: mcb_bank_customer_support\n",
            "\n",
            "content=\"I'm sorry to hear you've lost your ATM card.  To protect your account, we need to take immediate action.  Please call us immediately at [Phone Number] so we can cancel your current card and arrange for a replacement.  When you call, please have your account number and a valid form of identification ready.  We will then guide you through the process of ordering a new card and discuss any potential security concerns.\\n\" additional_kwargs={} response_metadata={'prompt_feedback': {'block_reason': 0, 'safety_ratings': []}, 'finish_reason': 'STOP', 'safety_ratings': []} id='run-0a57933b-8cd6-4622-ae05-0cde1be69eaa-0' usage_metadata={'input_tokens': 21, 'output_tokens': 90, 'total_tokens': 111, 'input_token_details': {'cache_read': 0}}\n",
            "==================================\u001b[1m Ai Message \u001b[0m==================================\n",
            "\n",
            "Here's what you should do if you've lost your ATM card:\n",
            "\n",
            "1. **Immediately call MCB Bank's customer service hotline:**  The number should be readily available on your bank statement, their website, or your welcome pack.  They will block your lost card to prevent unauthorized transactions.  Have your account number and a valid form of ID ready.\n",
            "\n",
            "2. **Report the loss:** The customer service representative will guide you through the process of reporting the lost card and initiating a replacement.\n",
            "\n",
            "3. **Replacement card:** They'll explain the procedure for getting a new ATM card, which might involve visiting a branch or having it delivered.  They will also inform you about any fees that may apply.\n",
            "\n",
            "4. **Security measures:**  The representative may also advise you on additional security measures you can take to protect your account.\n",
            "\n",
            "\n",
            "**Do not delay!**  Contact MCB Bank as soon as possible to minimize the risk of any fraudulent activity.\n"
          ]
        }
      ],
      "source": [
        "for m in messages['messages']:\n",
        "    m.pretty_print()"
      ]
    },
    {
      "cell_type": "code",
      "execution_count": null,
      "metadata": {
        "colab": {
          "base_uri": "https://localhost:8080/"
        },
        "id": "aAHJKwtRmDSa",
        "outputId": "63975f0f-abbb-4352-9187-7e8ff1e37800"
      },
      "outputs": [
        {
          "output_type": "stream",
          "name": "stdout",
          "text": [
            "{'last_user_input': 'A customer has lost their ATM card. Can you guide them through the process of blocking the card and applying for a replacement?'}\n"
          ]
        }
      ],
      "source": [
        "print(conversation_memory)"
      ]
    },
    {
      "cell_type": "markdown",
      "metadata": {
        "id": "_K1r2N3B2YIb"
      },
      "source": [
        "- **Organizes tasks into a prioritized to-do list, helping students manage their assignments and projects effectively.**"
      ]
    },
    {
      "cell_type": "code",
      "execution_count": null,
      "metadata": {
        "id": "bWJq0zbs2A2Y"
      },
      "outputs": [],
      "source": [
        "messages = [HumanMessage(content=\"Can you assist the customer in setting up MCB's mobile banking app and explain how to use it for everyday transactions?\")]\n",
        "messages = react_graph.invoke({\"messages\": messages})"
      ]
    },
    {
      "cell_type": "code",
      "execution_count": null,
      "metadata": {
        "colab": {
          "base_uri": "https://localhost:8080/"
        },
        "id": "k-Jx2F9u2ArD",
        "outputId": "a1ef2a27-8942-49c3-a616-6249f5453802"
      },
      "outputs": [
        {
          "output_type": "stream",
          "name": "stdout",
          "text": [
            "================================\u001b[1m Human Message \u001b[0m=================================\n",
            "\n",
            "Can you assist the customer in setting up MCB's mobile banking app and explain how to use it for everyday transactions?\n",
            "==================================\u001b[1m Ai Message \u001b[0m==================================\n",
            "\n",
            "Sure, I can help with that.  To assist a customer in setting up MCB's mobile banking app and explain its use for everyday transactions, I need more information about the specific MCB mobile banking app.  Different banks have different apps with varying features and setup processes.\n",
            "\n",
            "However, I can provide a general guide that applies to most mobile banking apps.  This guide will cover the typical steps and functionalities.  Remember that specific details might differ based on the MCB app version.\n",
            "\n",
            "**Setting up the MCB Mobile Banking App:**\n",
            "\n",
            "1. **Download and Installation:** The customer should start by downloading the official MCB mobile banking app from their device's app store (Google Play Store for Android or Apple App Store for iOS).  They should ensure they download the app from the official source to avoid malicious imitations.\n",
            "\n",
            "2. **Registration/Login:** After installation, the customer will likely need to register or log in.  This usually involves:\n",
            "    * **Account Information:** Entering their account number, CNIC number (or other relevant identification), and potentially other details.\n",
            "    * **Security Measures:** Setting up a strong password and possibly enabling additional security features like biometric authentication (fingerprint or facial recognition).\n",
            "    * **Verification:** The app might require a verification code sent via SMS or email to confirm the customer's identity.\n",
            "\n",
            "3. **Initial Setup:** Once logged in, the customer might need to complete some initial setup steps, such as:\n",
            "    * **Adding Beneficiaries:** For fund transfers, the customer might need to add the account details of the intended recipients.\n",
            "    * **Setting Preferences:** Personalizing settings such as transaction notifications and preferred language.\n",
            "\n",
            "\n",
            "**Using the App for Everyday Transactions:**\n",
            "\n",
            "The app's interface will vary, but most mobile banking apps offer these common features:\n",
            "\n",
            "* **Account Balance Check:**  Easily view account balances and transaction history.\n",
            "* **Fund Transfers:** Transfer funds between accounts (within MCB or to other banks).  This will usually involve selecting the recipient, specifying the amount, and confirming the transaction.\n",
            "* **Bill Payments:** Pay utility bills (electricity, water, gas), mobile phone bills, and other recurring expenses.\n",
            "* **Mobile Top-Up:** Recharge mobile phone credit.\n",
            "* **Card Management:** Manage debit and credit cards, including blocking or unblocking cards.\n",
            "* **Mini Statements:** View recent transactions.\n",
            "* **Customer Support:** Access customer support options, such as FAQs, contact numbers, and live chat.\n",
            "\n",
            "**Important Note:** I strongly recommend the customer refer to the MCB bank's official website or contact their customer support for precise instructions on setting up and using their mobile banking app.  This response provides a general overview; specific steps might differ.\n",
            "\n",
            "To get more specific instructions, I need the exact name of the MCB mobile banking app (e.g., \"MCB Mobile,\" \"MCB Digital Banking,\" etc.).  This will allow me to search for official documentation and provide more tailored assistance.\n"
          ]
        }
      ],
      "source": [
        "for m in messages['messages']:\n",
        "    m.pretty_print()"
      ]
    },
    {
      "cell_type": "code",
      "execution_count": null,
      "metadata": {
        "colab": {
          "base_uri": "https://localhost:8080/"
        },
        "id": "oRAlly442ATK",
        "outputId": "c4477b27-695b-426c-c5a0-bc8b8dec9be7"
      },
      "outputs": [
        {
          "output_type": "stream",
          "name": "stdout",
          "text": [
            "{'last_user_input': \"Can you assist the customer in setting up MCB's mobile banking app and explain how to use it for everyday transactions?\"}\n"
          ]
        }
      ],
      "source": [
        "print(conversation_memory)"
      ]
    },
    {
      "source": [
        "messages = [\n",
        "    HumanMessage(content=\"I apologize for the previous error. I am still learning to access and process information. Please let me know if you're experiencing issues with MCB Bank services. For example, are you having trouble with online banking, account access, transactions, or something else? Please provide details such as error messages or actions that led to the issue.\")\n",
        "]\n",
        "\n",
        "messages = llm_with_tools.invoke(messages)"
      ],
      "cell_type": "code",
      "metadata": {
        "id": "NRHmRJjxbplZ"
      },
      "execution_count": null,
      "outputs": []
    },
    {
      "source": [
        "messages.pretty_print()"
      ],
      "cell_type": "code",
      "metadata": {
        "id": "bu1v4pydcNzB",
        "outputId": "8ac86770-9e30-4b62-975b-154aafaa8e5f",
        "colab": {
          "base_uri": "https://localhost:8080/"
        }
      },
      "execution_count": null,
      "outputs": [
        {
          "output_type": "stream",
          "name": "stdout",
          "text": [
            "==================================\u001b[1m Ai Message \u001b[0m==================================\n",
            "\n",
            "I do not have personal experiences or access to real-time information, including the status of MCB Bank services.  I am a language model and cannot experience issues like a human user would.  To get help with MCB Bank services, you should contact their customer support directly.\n"
          ]
        }
      ]
    },
    {
      "cell_type": "code",
      "source": [
        "print(conversation_memory)"
      ],
      "metadata": {
        "id": "gLmBa8A1cC_X",
        "outputId": "c164d514-942f-47ec-b3d6-0def7c65c950",
        "colab": {
          "base_uri": "https://localhost:8080/"
        }
      },
      "execution_count": null,
      "outputs": [
        {
          "output_type": "stream",
          "name": "stdout",
          "text": [
            "{'last_user_input': \"Can you assist the customer in setting up MCB's mobile banking app and explain how to use it for everyday transactions?\"}\n"
          ]
        }
      ]
    },
    {
      "cell_type": "code",
      "execution_count": null,
      "metadata": {
        "colab": {
          "base_uri": "https://localhost:8080/"
        },
        "id": "f0i-D1ARWhvB",
        "outputId": "24bf726f-3c26-4b0b-bcb6-50bece85dc79"
      },
      "outputs": [
        {
          "metadata": {
            "tags": null
          },
          "name": "stdout",
          "output_type": "stream",
          "text": [
            "Assistant: To answer your query, I need access to your account information.  However, I cannot directly access private customer data due to security and privacy restrictions.  To check your account balance, please use one of the following methods:\n",
            "\n",
            "* **MCB Bank Mobile App:** Log in to the MCB Bank mobile app and view your account balance.\n",
            "* **MCB Bank Online Banking:** Log in to your online banking account at the MCB Bank website and check your balance.\n",
            "* **Visit a Branch:** Visit your nearest MCB Bank branch and request your account balance from a bank representative.\n",
            "* **Call Customer Service:** Call MCB Bank's customer service number and provide necessary security information to verify your identity and obtain your balance.\n",
            "\n",
            "Please note that you will need your login credentials (username and password) for the app and online banking options.  If you have forgotten your credentials, you'll find instructions for password recovery on the MCB Bank website or app.\n",
            "\n",
            "Assistant: To answer your question accurately, I need access to your account information.  However, I cannot access private customer data directly due to security and privacy regulations.\n",
            "\n",
            "To check your checking account balance, I recommend the following options:\n",
            "\n",
            "* **MCB Bank Mobile App:**  Log in to the MCB Bank mobile app for real-time access to your account balance and transaction history.\n",
            "* **MCB Bank Online Banking:** Visit the MCB Bank website and log in to your online banking account to view your balance.\n",
            "* **Contact MCB Bank Customer Service:** Call MCB Bank's customer service number, which you can find on their website or your bank card.  A representative can assist you.\n",
            "\n",
            "Please choose one of these methods to securely check your account balance.\n",
            "\n",
            "Assistant: OK.  Is there anything else I can help you with today?\n",
            "\n",
            "Assistant: \n",
            "Assistant: content='To show you your last 5 transactions, I need a little more information to ensure I\\'m accessing the correct account.  Could you please provide your account number or the last four digits of your account number and your date of birth?  Alternatively, if you\\'re using online banking or our mobile app, you can usually view your recent transactions there directly.  The exact location may vary depending on the platform you\\'re using, but look for sections labelled \"Transactions,\" \"Activity,\" or \"Account History.\"\\n' additional_kwargs={} response_metadata={'prompt_feedback': {'block_reason': 0, 'safety_ratings': []}, 'finish_reason': 'STOP', 'safety_ratings': []} id='run-7b669e4d-5d8c-478c-ac67-11800ac984ff-0' usage_metadata={'input_tokens': 21, 'output_tokens': 105, 'total_tokens': 126, 'input_token_details': {'cache_read': 0}}\n",
            "Assistant: To view your last 5 transactions, I need your account number or the last four digits of your account number and your date of birth for security purposes.  Alternatively, you can check your recent transactions directly through online banking or our mobile app by looking for sections labeled \"Transactions,\" \"Activity,\" or \"Account History.\"\n",
            "\n",
            "Assistant: I cannot directly access or process personal information like date of birth due to privacy concerns.  If you are trying to access your account or need assistance with your MCB bank account, please provide your account number or other identifying information (without revealing sensitive details like your full date of birth) so I can help you.\n",
            "\n",
            "Assistant: To answer your query about recent withdrawals, I need access to your account information.  However, I cannot directly access private customer data due to security and privacy restrictions.  \n",
            "\n",
            "To check your recent withdrawals, I recommend the following options:\n",
            "\n",
            "* **MCB Bank Mobile App:** Log in to the MCB Bank mobile app and check your transaction history.  This will provide a detailed list of your recent withdrawals.\n",
            "* **MCB Bank Online Banking:** Access your account through the MCB Bank online banking portal.  Your transaction history is readily available there.\n",
            "* **Visit a Branch:** Visit your nearest MCB Bank branch. A bank representative can assist you in viewing your transaction history.\n",
            "* **Call Customer Service:** Contact MCB Bank's customer service hotline. They can guide you through the process of accessing your transaction history or provide the information directly (subject to security verification).\n",
            "\n",
            "\n",
            "Please choose the method most convenient for you. Remember to keep your login credentials safe and secure.\n",
            "\n",
            "Assistant: Okay, I have noted a $50 deposit on December 10th, 2024.  Is there anything else I can help you with regarding this transaction or any other banking matter?\n",
            "\n",
            "Assistant: OK.  I've noted the $200 withdrawal on 12/08/2024.  Is there anything else I can help you with regarding this transaction or any other banking matter?\n",
            "\n",
            "Assistant: To assist you further, I need more context.  \"XYZ\" is not enough information to identify the payment.  Please provide more details, such as:\n",
            "\n",
            "* **The full name of the payee:**  Is XYZ a company, a person, or an organization?  The complete name will help me locate the transaction.\n",
            "* **Account number associated with the payment:** Knowing the account number linked to this transaction will allow for quicker identification.\n",
            "* **Transaction reference number (if available):**  A transaction reference number is a unique identifier often provided by the bank.\n",
            "\n",
            "With more information, I can help you find details about this $30 payment made on 12/07/2024.\n",
            "\n",
            "Assistant: That looks like a phone number.  Is there anything you'd like me to do with it?  For example, do you want me to look up an account associated with that number, or is this number related to a specific question you have?\n",
            "\n",
            "Assistant: This appears to be a phone number.  Is there anything I can help you with regarding this number?  For example, are you trying to verify it, report it as suspicious, or is it related to an account you have with MCB Bank?\n",
            "\n",
            "Assistant: OK. Is there anything I can help you with today?\n",
            "\n",
            "Assistant: To check the status of your home loan, I'll need some identifying information to protect your privacy.  Could you please provide your MCB Bank account number or your National Identification Number (CNIC)?  Once I have that, I can access your loan details and provide you with an update.\n",
            "\n",
            "Assistant: \n",
            "Assistant: content='To answer your question about whether your car loan is paid off, I need a little more information to protect your privacy.  Please provide your loan account number or the last four digits of your Social Security number (or equivalent identification depending on your location).  Once you provide this, I can access your account and confirm your loan status for you.\\n\\nAlternatively, you can check your loan status yourself through our online banking portal [link to online banking portal if applicable] or by contacting us via phone at [phone number].\\n' additional_kwargs={} response_metadata={'prompt_feedback': {'block_reason': 0, 'safety_ratings': []}, 'finish_reason': 'STOP', 'safety_ratings': []} id='run-6aadfd87-cc7f-434b-809d-302256d5dda9-0' usage_metadata={'input_tokens': 23, 'output_tokens': 105, 'total_tokens': 128, 'input_token_details': {'cache_read': 0}}\n",
            "Assistant: To check if your car loan is paid off, I'll need your loan account number or the last four digits of your national identification number for verification.  Once you provide this, I can access your account and confirm your loan status.\n",
            "\n",
            "Alternatively, you can check your loan status through our online banking portal or by contacting us via phone.\n",
            "\n",
            "Assistant: That's correct.  Is there anything else I can help you with regarding your car loan?\n",
            "\n",
            "Assistant: OK.  How can I help you further?\n",
            "\n",
            "Assistant: To answer your question accurately, I need more information.  Please provide me with your MCB Bank loan account number or your National Identity Card number.  For security reasons, I cannot access your loan information without proper identification.\n",
            "\n"
          ]
        }
      ],
      "source": [
        "def stream_graph_updates(user_input: str):\n",
        "    for event in react_graph.stream({\"messages\": [(\"user\", user_input)]}):\n",
        "        for value in event.values():\n",
        "            print(\"Assistant:\", value[\"messages\"][-1].content)\n",
        "\n",
        "\n",
        "while True:\n",
        "    try:\n",
        "        user_input = input(\"User: \")\n",
        "        if user_input.lower() in [\"quit\", \"exit\", \"q\"]:\n",
        "            print(\"Goodbye!\")\n",
        "            break\n",
        "\n",
        "        stream_graph_updates(user_input)\n",
        "    except:\n",
        "        # fallback if input() is not available\n",
        "        user_input = \"What do you know about LangGraph?\"\n",
        "        print(\"User: \" + user_input)\n",
        "        stream_graph_updates(user_input)\n",
        "        break"
      ]
    }
  ],
  "metadata": {
    "colab": {
      "provenance": [],
      "include_colab_link": true
    },
    "kernelspec": {
      "display_name": "Python 3",
      "name": "python3"
    },
    "language_info": {
      "name": "python"
    }
  },
  "nbformat": 4,
  "nbformat_minor": 0
}